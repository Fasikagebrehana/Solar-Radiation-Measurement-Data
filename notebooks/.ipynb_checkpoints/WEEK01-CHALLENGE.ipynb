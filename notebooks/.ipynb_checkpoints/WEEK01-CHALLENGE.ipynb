{
 "cells": [
  {
   "cell_type": "markdown",
   "metadata": {},
   "source": []
  },
  {
   "cell_type": "code",
   "execution_count": null,
   "metadata": {
    "vscode": {
     "languageId": "plaintext"
    }
   },
   "outputs": [],
   "source": [
    "import pandas as pd\n",
    "import seaborn as sns\n",
    "import matplotlib.pyplot as plt\n",
    "import numpy as np\n",
    "import os"
   ]
  },
  {
   "cell_type": "code",
   "execution_count": null,
   "metadata": {
    "vscode": {
     "languageId": "plaintext"
    }
   },
   "outputs": [],
   "source": [
    "# Function to clean data before analysis\n",
    "def clean_data(data):\n",
    "    \"\"\"\n",
    "    Cleans solar radiation data by handling missing values, duplicates, and invalid data.\n",
    "    \"\"\"\n",
    "    # Convert infinite values to NaN and coerce invalid timestamps to NaN\n",
    "    data = data.replace([np.inf, -np.inf], np.nan)\n",
    "    data['Timestamp'] = pd.to_datetime(data['Timestamp'], errors='coerce')\n",
    "\n",
    "    # Impute missing numeric values with column mean\n",
    "    numeric_columns = data.select_dtypes(include=[np.number]).columns\n",
    "    data[numeric_columns] = data[numeric_columns].apply(lambda x: x.fillna(x.mean()))\n",
    "\n",
    "    # Remove duplicates\n",
    "    data.drop_duplicates(inplace=True)\n",
    "\n",
    "    # Handle entirely null columns, like 'Comments'\n",
    "    null_columns = data.columns[data.isnull().sum() == len(data)]\n",
    "    data.drop(columns=null_columns, inplace=True)\n",
    "\n",
    "    return data"
   ]
  },
  {
   "cell_type": "code",
   "execution_count": null,
   "metadata": {
    "vscode": {
     "languageId": "plaintext"
    }
   },
   "outputs": [],
   "source": [
    "def perform_eda(data, location_name):\n",
    "    \"\"\"\n",
    "    Performs exploratory data analysis on solar radiation data for a specific location.\n",
    "    \"\"\"\n",
    "    # Clean the data\n",
    "    data = clean_data(data)\n",
    "\n",
    "    if data.empty:\n",
    "        print(f\"No data available after cleaning for {location_name}.\")\n",
    "        return\n",
    "\n",
    "    # Set 'Timestamp' as the index for time-series analysis\n",
    "    data.set_index('Timestamp', inplace=True)\n",
    "\n",
    "    # 1. Summary Statistics\n",
    "    summary_stats = data.describe()\n",
    "    print(f\"\\nSummary statistics for {location_name}:\")\n",
    "    print(summary_stats)\n",
    "\n",
    "    # 2. Data Quality Check\n",
    "    missing_values = data.isnull().sum()\n",
    "    print(f\"\\nMissing values for {location_name}:\")\n",
    "    print(missing_values)\n",
    "    # 3. Time Series Analysis\n",
    "    variables = ['GHI', 'DNI', 'DHI', 'Tamb']\n",
    "    plt.figure(figsize=(12, 6))\n",
    "    sns.lineplot(data=data[variables])\n",
    "    plt.title(f\"Time-series trends for {location_name}\")\n",
    "    plt.xlabel(\"Time\")\n",
    "    plt.ylabel(\"Value\")\n",
    "    plt.show()\n",
    "\n",
    "    # 4. Correlation Analysis\n",
    "    correlation_matrix = data.corr()\n",
    "    plt.figure(figsize=(12, 8))\n",
    "    sns.heatmap(correlation_matrix, annot=True, cmap='coolwarm', fmt=\".2f\")\n",
    "    plt.title(f\"Correlation Matrix for {location_name}\")\n",
    "    plt.show()\n",
    "\n",
    "    # 5. Wind Analysis\n",
    "    wind_variables = ['WS', 'WSgust', 'WSstdev', 'WD', 'WDstdev']\n",
    "    plt.figure(figsize=(12, 6))\n",
    "    sns.lineplot(data=data[wind_variables])\n",
    "    plt.title(f\"Wind Speed and Direction for {location_name}\")\n",
    "    plt.xlabel(\"Time\")\n",
    "    plt.ylabel(\"Value\")\n",
    "    plt.show()\n",
    "\n",
    "    # 6. Temperature Analysis\n",
    "    temp_variables = ['TModA', 'TModB', 'Tamb']\n",
    "    plt.figure(figsize=(12, 6))\n",
    "    sns.lineplot(data=data[temp_variables])\n",
    "    plt.title(f\"Module and Ambient Temperatures for {location_name}\")\n",
    "    plt.xlabel(\"Time\")\n",
    "    plt.ylabel(\"Temperature (°C)\")\n",
    "    plt.show()\n",
    "\n",
    "    # 7. Histograms\n",
    "    histogram_variables = ['GHI', 'DNI', 'DHI', 'WS', 'Tamb']\n",
    "    for var in histogram_variables:\n",
    "        plt.figure(figsize=(12, 6))\n",
    "        sns.histplot(data[var], kde=True)\n",
    "        plt.title(f\"Histogram of {var} for {location_name}\")\n",
    "        plt.xlabel(var)\n",
    "        plt.ylabel(\"Count\")\n",
    "        plt.show()\n",
    "\n",
    "    # 8. Box Plots\n",
    "    plt.figure(figsize=(12, 6))\n",
    "    sns.boxplot(data=data[variables])\n",
    "    plt.title(f\"Box Plot for {location_name}\")\n",
    "    plt.show()\n",
    "\n",
    "     # 9. Scatter Plots\n",
    "    scatter_pairs = [('GHI', 'Tamb'), ('WS', 'WSgust')]\n",
    "    for x, y in scatter_pairs:\n",
    "        plt.figure(figsize=(12, 6))\n",
    "        sns.scatterplot(data=data, x=x, y=y, hue='Precipitation', palette='viridis', s=20)\n",
    "        plt.title(f\"Scatter Plot of {x} vs {y} for {location_name}\")\n",
    "        plt.xlabel(x)\n",
    "        plt.ylabel(y)\n",
    "        plt.show()"
   ]
  },
  {
   "cell_type": "code",
   "execution_count": null,
   "metadata": {
    "vscode": {
     "languageId": "plaintext"
    }
   },
   "outputs": [],
   "source": [
    "# Load data from CSV files\n",
    "try:\n",
    "    benin_data = pd.read_csv(\"benin-malanville.csv\")\n",
    "    sierra_leone_data = pd.read_csv(\"sierraleone-bumbuna.csv\")\n",
    "    togo_data = pd.read_csv(\"togo-dapaong_qc.csv\")\n",
    "except FileNotFoundError:\n",
    "    print(\"Error: One or more CSV files not found.\")\n",
    "    exit()"
   ]
  },
  {
   "cell_type": "code",
   "execution_count": null,
   "metadata": {
    "vscode": {
     "languageId": "plaintext"
    }
   },
   "outputs": [],
   "source": [
    "# Apply the analysis on each dataset\n",
    "process_and_analyze(benin_data, \"Benin - Malanville\")"
   ]
  }
 ],
 "metadata": {
  "language_info": {
   "name": "python"
  }
 },
 "nbformat": 4,
 "nbformat_minor": 2
}
